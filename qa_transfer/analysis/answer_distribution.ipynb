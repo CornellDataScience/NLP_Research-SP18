{
 "cells": [
  {
   "cell_type": "code",
   "execution_count": 1,
   "metadata": {},
   "outputs": [],
   "source": [
    "import numpy as np\n",
    "import pandas as pd\n",
    "import pickle\n",
    "import matplotlib.pyplot as plt\n",
    "import spacy\n",
    "import random"
   ]
  },
  {
   "cell_type": "code",
   "execution_count": 2,
   "metadata": {},
   "outputs": [],
   "source": [
    "data = pd.read_csv('../data/raw_questions.csv')\n",
    "with open('../data/parsed_answers.pkl', 'rb') as f:\n",
    "    answers = pickle.load(f)"
   ]
  },
  {
   "cell_type": "markdown",
   "metadata": {},
   "source": [
    "### Distribution of Answer Lengths"
   ]
  },
  {
   "cell_type": "code",
   "execution_count": 3,
   "metadata": {},
   "outputs": [
    {
     "data": {
      "image/png": "[encoded data removed]",
      "text/plain": [
       "<matplotlib.figure.Figure at 0x7fa0606db550>"
      ]
     },
     "metadata": {},
     "output_type": "display_data"
    },
    {
     "data": {
      "text/plain": [
       "(0.31761778102489757, 0.7142889759015514)"
      ]
     },
     "execution_count": 3,
     "metadata": {},
     "output_type": "execute_result"
    }
   ],
   "source": [
    "lengths = []\n",
    "for ans in answers:\n",
    "    lengths.append(len(ans))\n",
    "plt.hist(lengths, bins=20)\n",
    "plt.show()\n",
    "\n",
    "n = len(lengths)\n",
    "lengths = np.array(lengths)\n",
    "((lengths == 1).sum()/n, (lengths <= 3).sum()/n)"
   ]
  },
  {
   "cell_type": "markdown",
   "metadata": {},
   "source": [
    "Unsurprisingly, answer lengths follow power-law distribution. 31% of answers are just one word, 71% of answers are 3 words or less."
   ]
  },
  {
   "cell_type": "markdown",
   "metadata": {},
   "source": [
    "### PoS Tags per Answer"
   ]
  },
  {
   "cell_type": "code",
   "execution_count": 4,
   "metadata": {},
   "outputs": [
    {
     "data": {
      "image/png": "[encoded data removed]",
      "text/plain": [
       "<matplotlib.figure.Figure at 0x7fa0263cd7b8>"
      ]
     },
     "metadata": {},
     "output_type": "display_data"
    }
   ],
   "source": [
    "n_POS = []  # number of unique simple POS tags per answer\n",
    "n_tag = []  # number of unique detailed POS tags per answer\n",
    "stop = set()\n",
    "for ans in answers:\n",
    "    POS, tag = set(), set()\n",
    "    for token in ans:\n",
    "        if token.is_stop:\n",
    "            stop.add(token.text)\n",
    "        else:\n",
    "            POS.add(token.pos_)\n",
    "            tag.add(token.tag_)\n",
    "    n_POS.append(len(POS))\n",
    "    n_tag.append(len(tag))\n",
    "    \n",
    "fig, axes = plt.subplots(ncols=2, sharex=True, sharey=True,\n",
    "                         figsize=(8, 3))\n",
    "axes[0].hist(n_POS, bins=10)\n",
    "axes[0].set_title('Unique simple POS tags')\n",
    "axes[1].hist(n_tag, bins=10)\n",
    "axes[1].set_title('Unique detailed POS tags')\n",
    "plt.show()"
   ]
  },
  {
   "cell_type": "code",
   "execution_count": 8,
   "metadata": {},
   "outputs": [
    {
     "name": "stdout",
     "output_type": "stream",
     "text": [
      "47451\n",
      "45131\n"
     ]
    }
   ],
   "source": [
    "print((np.array(n_POS) == 1).sum())\n",
    "print((np.array(n_tag) == 1).sum())"
   ]
  },
  {
   "cell_type": "markdown",
   "metadata": {},
   "source": [
    "When excluding stop words, more than half the questions have only one unique POS tag - for these questions hopefully we can infer the required type of the answer from the question."
   ]
  },
  {
   "cell_type": "markdown",
   "metadata": {},
   "source": [
    "### Named entity recognition"
   ]
  },
  {
   "cell_type": "code",
   "execution_count": 6,
   "metadata": {},
   "outputs": [],
   "source": [
    "entities = set()\n",
    "for ans in answers:\n",
    "    for ent in ans.ents:\n",
    "        entities.add(ent)\n",
    "entities = np.array(list(entities))\n",
    "        \n",
    "labels = []\n",
    "for ent in entities:\n",
    "    labels.append(ent.label_)\n",
    "labels = np.array(labels)"
   ]
  },
  {
   "cell_type": "code",
   "execution_count": 9,
   "metadata": {},
   "outputs": [
    {
     "name": "stdout",
     "output_type": "stream",
     "text": [
      "MONEY: Monetary values, including unit\n",
      "$350 million\n",
      "£160 million\n",
      "186,000\n",
      "€752 million\n",
      "$2 billion\n",
      "\n",
      "NORP: Nationalities or religious or political groups\n",
      "Malayo-Polynesian\n",
      "Albanian\n",
      "Italians\n",
      "Byzantine\n",
      "Australians\n",
      "\n",
      "ORDINAL: \"first\", \"second\", etc.\n",
      "second\n",
      "first\n",
      "19th\n",
      "11th\n",
      "second\n",
      "\n",
      "TIME: Times smaller than a day\n",
      "daylight hours\n",
      "10 minutes\n",
      "an hour\n",
      "less than an hour\n",
      "90 minutes\n",
      "\n",
      "DATE: Absolute or relative dates or periods\n",
      "February 2015\n",
      "2013–14\n",
      "31 May 1970\n",
      "167 million years\n",
      "1968\n",
      "\n",
      "GPE: Countries, cities, states\n",
      "Queensland\n",
      "West Germany\n",
      "Sweden\n",
      "Scotland\n",
      "Octavian\n",
      "\n",
      "LAW: Named documents made into laws.\n",
      "the Nigerian Baptist Convention\n",
      "the Community Reinvestment Act\n",
      "Constitution\n",
      "the Warsaw Pact\n",
      "the Slave Trade Act\n",
      "\n",
      "ORG: Companies, agencies, institutions, etc.\n",
      "Comboios de Portugal\n",
      "Huns\n",
      "State Security Service\n",
      "Physicist\n",
      "the School of Commerce and Finance\n",
      "\n",
      "PRODUCT: Objects, vehicles, foods, etc. (not services)\n",
      "Windows\n",
      "PlayStation\n",
      "Ramesses II\n",
      "Windows 7 Home Basic\n",
      "Windows 8.1\n",
      "\n",
      "FAC: None\n",
      "Independence Square\n",
      "Golden Bauhinia Square\n",
      "Saint Mark's\n",
      "South Tower\n",
      "Linux Technology Center\n",
      "\n",
      "LANGUAGE: Any named language\n",
      "English\n",
      "English\n",
      "English\n",
      "Chinese\n",
      "Spanish\n",
      "\n",
      "QUANTITY: Measurements, as of weight or distance\n",
      "20 cm\n",
      "30 feet\n",
      "11.30 pm\n",
      "approximately 1,350 miles\n",
      "68,732 km\n",
      "\n",
      "PERCENT: Percentage, including \"%\"\n",
      "70%\n",
      "10 percent\n",
      "15%\n",
      "5%\n",
      "13%\n",
      "\n",
      "LOC: Non-GPE locations, mountain ranges, bodies of water\n",
      "East\n",
      "Park\n",
      "the Balearic Islands\n",
      "South Bronx High Schools\n",
      "Africa\n",
      "\n",
      "WORK_OF_ART: Titles of books, songs, etc.\n",
      "Project Lantern\n",
      "Love\n",
      "The Great Vehicle\n",
      "A. and H. Pueblo\n",
      "Pulitzer Prize\n",
      "\n",
      "PERSON: People, including fictional\n",
      "Jean-Michel Basquiat\n",
      "Changchub Gyaltsen\n",
      "James E. Chaney\n",
      "BPP\n",
      "Wenzel Anton von Kaunitz\n",
      "\n",
      "CARDINAL: Numerals that do not fall under another type\n",
      "3\n",
      "4,500\n",
      "six\n",
      "nine\n",
      "40\n",
      "\n",
      "EVENT: Named hurricanes, battles, wars, sports events, etc.\n",
      "World Snooker Championship\n",
      "The National Archives Building\n",
      "Civil War\n",
      "the First World War\n",
      "FIFA World Cup\n",
      "\n"
     ]
    }
   ],
   "source": [
    "for label in set(labels):\n",
    "    ents = entities[np.where(labels == label)[0]]\n",
    "    print('{}: {}'.format(label, spacy.explain(label)))\n",
    "    for ent in ents[:5]:\n",
    "        print(ent.text)\n",
    "    print()"
   ]
  },
  {
   "cell_type": "markdown",
   "metadata": {},
   "source": [
    "Pretty good ¯\\\\_(ツ)_/¯"
   ]
  }
 ],
 "metadata": {
  "kernelspec": {
   "display_name": "Python 3",
   "language": "python",
   "name": "python3"
  },
  "language_info": {
   "codemirror_mode": {
    "name": "ipython",
    "version": 3
   },
   "file_extension": ".py",
   "mimetype": "text/x-python",
   "name": "python",
   "nbconvert_exporter": "python",
   "pygments_lexer": "ipython3",
   "version": "3.6.4"
  }
 },
 "nbformat": 4,
 "nbformat_minor": 2
}
